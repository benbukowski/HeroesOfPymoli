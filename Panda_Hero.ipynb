{
 "cells": [
  {
   "cell_type": "markdown",
   "metadata": {},
   "source": [
    "### Heroes Of Pymoli Data Analysis\n",
    "* Of the 1163 active players, the vast majority are male (84%). There also exists, a smaller, but notable proportion of female players (14%).\n",
    "\n",
    "* Our peak age demographic falls between 20-24 (44.8%) with secondary groups falling between 15-19 (18.60%) and 25-29 (13.4%).  \n",
    "-----"
   ]
  },
  {
   "cell_type": "markdown",
   "metadata": {},
   "source": [
    "### Note\n",
    "* Instructions have been included for each segment. You do not have to follow them exactly, but they are included to help you think through the steps."
   ]
  },
  {
   "cell_type": "code",
   "execution_count": 4,
   "metadata": {},
   "outputs": [
    {
     "ename": "ValueError",
     "evalue": "Expected object or value",
     "output_type": "error",
     "traceback": [
      "\u001b[1;31m---------------------------------------------------------------------------\u001b[0m",
      "\u001b[1;31mValueError\u001b[0m                                Traceback (most recent call last)",
      "\u001b[1;32m<ipython-input-4-158002827f25>\u001b[0m in \u001b[0;36m<module>\u001b[1;34m\u001b[0m\n\u001b[0;32m      9\u001b[0m \u001b[1;33m\u001b[0m\u001b[0m\n\u001b[0;32m     10\u001b[0m \u001b[1;31m# Read Purchasing File and store into Pandas data frame\u001b[0m\u001b[1;33m\u001b[0m\u001b[1;33m\u001b[0m\u001b[1;33m\u001b[0m\u001b[0m\n\u001b[1;32m---> 11\u001b[1;33m \u001b[0mpurchase_data_df\u001b[0m \u001b[1;33m=\u001b[0m \u001b[0mpd\u001b[0m\u001b[1;33m.\u001b[0m\u001b[0mread_json\u001b[0m\u001b[1;33m(\u001b[0m\u001b[0mpath\u001b[0m\u001b[1;33m)\u001b[0m\u001b[1;33m\u001b[0m\u001b[1;33m\u001b[0m\u001b[0m\n\u001b[0m\u001b[0;32m     12\u001b[0m \u001b[0mpurchase_data_df\u001b[0m\u001b[1;33m.\u001b[0m\u001b[0mhead\u001b[0m\u001b[1;33m(\u001b[0m\u001b[1;33m)\u001b[0m\u001b[1;33m\u001b[0m\u001b[1;33m\u001b[0m\u001b[0m\n",
      "\u001b[1;32m~\\Anaconda3\\lib\\site-packages\\pandas\\io\\json\\json.py\u001b[0m in \u001b[0;36mread_json\u001b[1;34m(path_or_buf, orient, typ, dtype, convert_axes, convert_dates, keep_default_dates, numpy, precise_float, date_unit, encoding, lines, chunksize, compression)\u001b[0m\n\u001b[0;32m    425\u001b[0m         \u001b[1;32mreturn\u001b[0m \u001b[0mjson_reader\u001b[0m\u001b[1;33m\u001b[0m\u001b[1;33m\u001b[0m\u001b[0m\n\u001b[0;32m    426\u001b[0m \u001b[1;33m\u001b[0m\u001b[0m\n\u001b[1;32m--> 427\u001b[1;33m     \u001b[0mresult\u001b[0m \u001b[1;33m=\u001b[0m \u001b[0mjson_reader\u001b[0m\u001b[1;33m.\u001b[0m\u001b[0mread\u001b[0m\u001b[1;33m(\u001b[0m\u001b[1;33m)\u001b[0m\u001b[1;33m\u001b[0m\u001b[1;33m\u001b[0m\u001b[0m\n\u001b[0m\u001b[0;32m    428\u001b[0m     \u001b[1;32mif\u001b[0m \u001b[0mshould_close\u001b[0m\u001b[1;33m:\u001b[0m\u001b[1;33m\u001b[0m\u001b[1;33m\u001b[0m\u001b[0m\n\u001b[0;32m    429\u001b[0m         \u001b[1;32mtry\u001b[0m\u001b[1;33m:\u001b[0m\u001b[1;33m\u001b[0m\u001b[1;33m\u001b[0m\u001b[0m\n",
      "\u001b[1;32m~\\Anaconda3\\lib\\site-packages\\pandas\\io\\json\\json.py\u001b[0m in \u001b[0;36mread\u001b[1;34m(self)\u001b[0m\n\u001b[0;32m    535\u001b[0m             )\n\u001b[0;32m    536\u001b[0m         \u001b[1;32melse\u001b[0m\u001b[1;33m:\u001b[0m\u001b[1;33m\u001b[0m\u001b[1;33m\u001b[0m\u001b[0m\n\u001b[1;32m--> 537\u001b[1;33m             \u001b[0mobj\u001b[0m \u001b[1;33m=\u001b[0m \u001b[0mself\u001b[0m\u001b[1;33m.\u001b[0m\u001b[0m_get_object_parser\u001b[0m\u001b[1;33m(\u001b[0m\u001b[0mself\u001b[0m\u001b[1;33m.\u001b[0m\u001b[0mdata\u001b[0m\u001b[1;33m)\u001b[0m\u001b[1;33m\u001b[0m\u001b[1;33m\u001b[0m\u001b[0m\n\u001b[0m\u001b[0;32m    538\u001b[0m         \u001b[0mself\u001b[0m\u001b[1;33m.\u001b[0m\u001b[0mclose\u001b[0m\u001b[1;33m(\u001b[0m\u001b[1;33m)\u001b[0m\u001b[1;33m\u001b[0m\u001b[1;33m\u001b[0m\u001b[0m\n\u001b[0;32m    539\u001b[0m         \u001b[1;32mreturn\u001b[0m \u001b[0mobj\u001b[0m\u001b[1;33m\u001b[0m\u001b[1;33m\u001b[0m\u001b[0m\n",
      "\u001b[1;32m~\\Anaconda3\\lib\\site-packages\\pandas\\io\\json\\json.py\u001b[0m in \u001b[0;36m_get_object_parser\u001b[1;34m(self, json)\u001b[0m\n\u001b[0;32m    554\u001b[0m         \u001b[0mobj\u001b[0m \u001b[1;33m=\u001b[0m \u001b[1;32mNone\u001b[0m\u001b[1;33m\u001b[0m\u001b[1;33m\u001b[0m\u001b[0m\n\u001b[0;32m    555\u001b[0m         \u001b[1;32mif\u001b[0m \u001b[0mtyp\u001b[0m \u001b[1;33m==\u001b[0m \u001b[1;34m'frame'\u001b[0m\u001b[1;33m:\u001b[0m\u001b[1;33m\u001b[0m\u001b[1;33m\u001b[0m\u001b[0m\n\u001b[1;32m--> 556\u001b[1;33m             \u001b[0mobj\u001b[0m \u001b[1;33m=\u001b[0m \u001b[0mFrameParser\u001b[0m\u001b[1;33m(\u001b[0m\u001b[0mjson\u001b[0m\u001b[1;33m,\u001b[0m \u001b[1;33m**\u001b[0m\u001b[0mkwargs\u001b[0m\u001b[1;33m)\u001b[0m\u001b[1;33m.\u001b[0m\u001b[0mparse\u001b[0m\u001b[1;33m(\u001b[0m\u001b[1;33m)\u001b[0m\u001b[1;33m\u001b[0m\u001b[1;33m\u001b[0m\u001b[0m\n\u001b[0m\u001b[0;32m    557\u001b[0m \u001b[1;33m\u001b[0m\u001b[0m\n\u001b[0;32m    558\u001b[0m         \u001b[1;32mif\u001b[0m \u001b[0mtyp\u001b[0m \u001b[1;33m==\u001b[0m \u001b[1;34m'series'\u001b[0m \u001b[1;32mor\u001b[0m \u001b[0mobj\u001b[0m \u001b[1;32mis\u001b[0m \u001b[1;32mNone\u001b[0m\u001b[1;33m:\u001b[0m\u001b[1;33m\u001b[0m\u001b[1;33m\u001b[0m\u001b[0m\n",
      "\u001b[1;32m~\\Anaconda3\\lib\\site-packages\\pandas\\io\\json\\json.py\u001b[0m in \u001b[0;36mparse\u001b[1;34m(self)\u001b[0m\n\u001b[0;32m    650\u001b[0m \u001b[1;33m\u001b[0m\u001b[0m\n\u001b[0;32m    651\u001b[0m         \u001b[1;32melse\u001b[0m\u001b[1;33m:\u001b[0m\u001b[1;33m\u001b[0m\u001b[1;33m\u001b[0m\u001b[0m\n\u001b[1;32m--> 652\u001b[1;33m             \u001b[0mself\u001b[0m\u001b[1;33m.\u001b[0m\u001b[0m_parse_no_numpy\u001b[0m\u001b[1;33m(\u001b[0m\u001b[1;33m)\u001b[0m\u001b[1;33m\u001b[0m\u001b[1;33m\u001b[0m\u001b[0m\n\u001b[0m\u001b[0;32m    653\u001b[0m \u001b[1;33m\u001b[0m\u001b[0m\n\u001b[0;32m    654\u001b[0m         \u001b[1;32mif\u001b[0m \u001b[0mself\u001b[0m\u001b[1;33m.\u001b[0m\u001b[0mobj\u001b[0m \u001b[1;32mis\u001b[0m \u001b[1;32mNone\u001b[0m\u001b[1;33m:\u001b[0m\u001b[1;33m\u001b[0m\u001b[1;33m\u001b[0m\u001b[0m\n",
      "\u001b[1;32m~\\Anaconda3\\lib\\site-packages\\pandas\\io\\json\\json.py\u001b[0m in \u001b[0;36m_parse_no_numpy\u001b[1;34m(self)\u001b[0m\n\u001b[0;32m    869\u001b[0m         \u001b[1;32mif\u001b[0m \u001b[0morient\u001b[0m \u001b[1;33m==\u001b[0m \u001b[1;34m\"columns\"\u001b[0m\u001b[1;33m:\u001b[0m\u001b[1;33m\u001b[0m\u001b[1;33m\u001b[0m\u001b[0m\n\u001b[0;32m    870\u001b[0m             self.obj = DataFrame(\n\u001b[1;32m--> 871\u001b[1;33m                 loads(json, precise_float=self.precise_float), dtype=None)\n\u001b[0m\u001b[0;32m    872\u001b[0m         \u001b[1;32melif\u001b[0m \u001b[0morient\u001b[0m \u001b[1;33m==\u001b[0m \u001b[1;34m\"split\"\u001b[0m\u001b[1;33m:\u001b[0m\u001b[1;33m\u001b[0m\u001b[1;33m\u001b[0m\u001b[0m\n\u001b[0;32m    873\u001b[0m             decoded = {str(k): v for k, v in compat.iteritems(\n",
      "\u001b[1;31mValueError\u001b[0m: Expected object or value"
     ]
    }
   ],
   "source": [
    "# Dependencies and Setup\n",
    "import pandas as pd\n",
    "import numpy as np\n",
    "\n",
    "# File to Load (Remember to Change These)\n",
    "path = \"Resources/purchase_data.json\"\n",
    "\n",
    "\n",
    "\n",
    "# Read Purchasing File and store into Pandas data frame\n",
    "purchase_data_df = pd.read_json(path)\n",
    "purchase_data_df.head()\n"
   ]
  },
  {
   "cell_type": "markdown",
   "metadata": {},
   "source": [
    "## Player Count"
   ]
  },
  {
   "cell_type": "markdown",
   "metadata": {},
   "source": [
    "* Display the total number of players\n"
   ]
  },
  {
   "cell_type": "code",
   "execution_count": null,
   "metadata": {},
   "outputs": [],
   "source": [
    "total_players = purchase_data_df[\"Gender\"].count()\n",
    "total_players\n",
    "\n",
    "\n",
    "\n",
    "\n",
    "\n",
    "\n"
   ]
  },
  {
   "cell_type": "markdown",
   "metadata": {},
   "source": [
    "## Purchasing Analysis (Total)"
   ]
  },
  {
   "cell_type": "markdown",
   "metadata": {},
   "source": [
    "* Run basic calculations to obtain number of unique items, average price, etc.\n",
    "\n",
    "\n",
    "* Create a summary data frame to hold the results\n",
    "\n",
    "\n",
    "* Optional: give the displayed data cleaner formatting\n",
    "\n",
    "\n",
    "* Display the summary data frame\n"
   ]
  },
  {
   "cell_type": "code",
   "execution_count": null,
   "metadata": {
    "scrolled": true
   },
   "outputs": [],
   "source": [
    "\n",
    "unique_items = len(purchase_data_df[\"Item ID\"].unique())\n",
    "unique_items\n",
    "\n",
    "total_purchases = purchase_data_df[\"Item Name\"].count()\n",
    "total_purchases\n",
    "\n",
    "\n",
    "total_revenue = purchase_data_df[\"Price\"].sum()\n",
    "total_revenue\n",
    "\n",
    "average_price1 = purchase_data_df[\"Price\"].mean()\n",
    "average_price1\n",
    "\n",
    "average_price2 = total_revenue/total_purchases\n",
    "average_price2\n",
    "\n",
    "purchase_analysis_df = pd.DataFrame([{\"Number of Unique Items\": unique_items, \"Average Price\": average_price1,\n",
    "                                      \"Number of Purchases\": total_purchases, \"Total Revenue\": total_revenue}])\n",
    "purchase_analysis_df[\"Average Price\"] = purchase_analysis_df[\"Average Price\"].map(\"${:,.2f}\".format)\n",
    "purchase_analysis_df[\"Total Revenue\"] = purchase_analysis_df[\"Total Revenue\"].map(\"${:,.2f}\".format)\n",
    "purchase_analysis_df\n",
    "\n",
    "\n",
    "\n",
    "\n",
    "\n"
   ]
  },
  {
   "cell_type": "markdown",
   "metadata": {},
   "source": [
    "## Gender Demographics"
   ]
  },
  {
   "cell_type": "markdown",
   "metadata": {},
   "source": [
    "* Percentage and Count of Male Players\n",
    "\n",
    "\n",
    "* Percentage and Count of Female Players\n",
    "\n",
    "\n",
    "* Percentage and Count of Other / Non-Disclosed\n",
    "\n",
    "\n"
   ]
  },
  {
   "cell_type": "code",
   "execution_count": null,
   "metadata": {},
   "outputs": [],
   "source": [
    "gender_demo_df = pd.DataFrame(purchase_data_df[\"Gender\"].value_counts())\n",
    "gender_demo_df\n",
    "\n",
    "percentage_of_players = (purchase_data_df[\"Gender\"].value_counts()/total_players)*100\n",
    "percentage_of_players\n",
    "\n",
    "gender_demo_df[\"Percentage of Players\"] = percentage_of_players\n",
    "gender_demo_df[\"Percentage of Players\"] = gender_demo_df[\"Percentage of Players\"].map(\"{:,.2f}%\".format)\n",
    "gender_demo_df\n",
    "\n",
    "\n",
    "org_gender_demo_df = gender_demo_df[[\"Percentage of Players\", \"Gender\"]]\n",
    "org_gender_demo_df\n",
    "\n",
    "fin_gender_demo_df = org_gender_demo_df.rename(columns={\"Gender\":\"Total Count\"})\n",
    "fin_gender_demo_df\n"
   ]
  },
  {
   "cell_type": "markdown",
   "metadata": {},
   "source": [
    "\n",
    "## Purchasing Analysis (Gender)"
   ]
  },
  {
   "cell_type": "markdown",
   "metadata": {},
   "source": [
    "* Run basic calculations to obtain purchase count, avg. purchase price, avg. purchase total per person etc. by gender\n",
    "\n",
    "\n",
    "\n",
    "\n",
    "* Create a summary data frame to hold the results\n",
    "\n",
    "\n",
    "* Optional: give the displayed data cleaner formatting\n",
    "\n",
    "\n",
    "* Display the summary data frame"
   ]
  },
  {
   "cell_type": "code",
   "execution_count": null,
   "metadata": {},
   "outputs": [],
   "source": [
    "gender_grouped_purchased_data_df = purchase_data_df.groupby([\"Gender\"])\n",
    "\n",
    "gender_grouped_purchased_data_df[\"Item ID\"].count().head(10)\n",
    "\n",
    "total_purchase_value = gender_grouped_purchased_data_df[\"Price\"].sum()\n",
    "total_purchase_value.head()\n",
    "dlr_total_purchase_value = total_purchase_value.map(\"${:,.2f}\".format)\n",
    "dlr_total_purchase_value.head()\n",
    "\n",
    "avg_purchase_price = gender_grouped_purchased_data_df[\"Price\"].mean()\n",
    "avg_purchase_price.head()\n",
    "dlr_avg_purchase_price = avg_purchase_price.map(\"${:,.2f}\".format)\n",
    "dlr_avg_purchase_price.head()\n",
    "\n",
    "org_gender_purchased_data_df = pd.DataFrame(gender_grouped_purchased_data_df[\"Item ID\"].count())\n",
    "org_gender_purchased_data_df[\"Average Purchase Price\"] = dlr_avg_purchase_price  \n",
    "org_gender_purchased_data_df[\"Total Purchase Value\"] = dlr_total_purchase_value  \n",
    "org_gender_purchased_data_df\n"
   ]
  },
  {
   "cell_type": "markdown",
   "metadata": {},
   "source": [
    "## Age Demographics"
   ]
  },
  {
   "cell_type": "markdown",
   "metadata": {},
   "source": [
    "* Establish bins for ages\n",
    "\n",
    "\n",
    "* Categorize the existing players using the age bins. Hint: use pd.cut()\n",
    "\n",
    "\n",
    "* Calculate the numbers and percentages by age group\n",
    "\n",
    "\n",
    "* Create a summary data frame to hold the results\n",
    "\n",
    "\n",
    "* Optional: round the percentage column to two decimal points\n",
    "\n",
    "\n",
    "* Display Age Demographics Table\n"
   ]
  },
  {
   "cell_type": "code",
   "execution_count": null,
   "metadata": {},
   "outputs": [],
   "source": [
    "age_bins = [0, 9, 14, 19, 24, 29, 34, 39, 999]\n",
    "group_names = [\"<10\", \"10-14\", \"15-19\", \"20-24\", \"25-29\", \"30-34\", \"35-39\", \"40+\"]\n",
    "\n",
    "grp_by_age_purchase_data_df = purchase_data_df\n",
    "grp_by_age_purchase_data_df[\"Age Summary\"] = pd.cut(grp_by_age_purchase_data_df[\"Age\"], age_bins, labels=group_names)\n",
    "grp_by_age_purchase_data_df\n",
    "\n",
    "grp_by_age_purchase_data_df = grp_by_age_purchase_data_df.groupby(\"Age Summary\")\n",
    "grp_by_age_purchase_data_df.count()\n",
    "\n",
    "summary_by_age_df = pd.DataFrame(grp_by_age_purchase_data_df.count())\n",
    "summary_by_age_df \n",
    "\n",
    "summary_by_age_df[\"Item ID\"] = (summary_by_age_df[\"Item ID\"]/total_players)*100\n",
    "summary_by_age_df \n",
    "\n",
    "summary_by_age_df[\"Item ID\"] = summary_by_age_df[\"Item ID\"].map(\"{:,.2f}%\".format)\n",
    "summary_by_age_df\n",
    "\n",
    "org_summary_by_age_df = summary_by_age_df[[\"Item ID\",\"SN\"]]\n",
    "org_summary_by_age_df\n",
    "\n",
    "\n",
    "fin_grp_by_age_summary_df = org_summary_by_age_df.rename(columns={\"Item ID\":\"Percentage of Players\", \"SN\":\"Total Count\"})\n",
    "fin_grp_by_age_summary_df\n",
    "\n",
    "\n"
   ]
  },
  {
   "cell_type": "markdown",
   "metadata": {},
   "source": [
    "## Purchasing Analysis (Age)"
   ]
  },
  {
   "cell_type": "markdown",
   "metadata": {},
   "source": [
    "* Bin the purchase_data data frame by age\n",
    "\n",
    "\n",
    "* Run basic calculations to obtain purchase count, avg. purchase price, avg. purchase total per person etc. in the table below\n",
    "\n",
    "\n",
    "* Create a summary data frame to hold the results\n",
    "\n",
    "\n",
    "* Optional: give the displayed data cleaner formatting\n",
    "\n",
    "\n",
    "* Display the summary data frame"
   ]
  },
  {
   "cell_type": "code",
   "execution_count": null,
   "metadata": {},
   "outputs": [],
   "source": [
    "analysis_by_age_df = pd.DataFrame(grp_by_age_purchase_data_df[\"Item ID\"].count())\n",
    "analysis_by_age_df\n",
    "\n",
    "total_purchase_value_age = grp_by_age_purchase_data_df[\"Price\"].sum()\n",
    "total_purchase_value_age\n",
    "dlr_total_purchase_value_age = total_purchase_value_age.map(\"${:,.2f}\".format)\n",
    "dlr_total_purchase_value_age\n",
    "\n",
    "avg_purchase_price_age = grp_by_age_purchase_data_df[\"Price\"].mean()\n",
    "avg_purchase_price_age\n",
    "dlr_avg_purchase_price_age = avg_purchase_price_age.map(\"${:,.2f}\".format)\n",
    "dlr_avg_purchase_price_age\n",
    "\n",
    "normalized_totals_age = total_purchase_value_age/grp_by_age_purchase_data_df[\"Item ID\"].count()\n",
    "dlr_normalized_totals_age = normalized_totals_age.map(\"${:,.2f}\".format)\n",
    "dlr_normalized_totals_age\n",
    "\n",
    "analysis_by_age_df[\"Average Purchase Price\"] = dlr_avg_purchase_price_age  \n",
    "analysis_by_age_df[\"Total Purchase Value\"] = dlr_total_purchase_value_age \n",
    "analysis_by_age_df[\"Normalized Totals\"] = dlr_normalized_totals_age \n",
    "analysis_by_age_df\n",
    "\n",
    "summary_age_purchased_data_df = analysis_by_age_df.rename(columns={\"Item ID\":\"Purchase Count\"})\n",
    "summary_age_purchased_data_df"
   ]
  },
  {
   "cell_type": "markdown",
   "metadata": {},
   "source": [
    "## Top Spenders"
   ]
  },
  {
   "cell_type": "markdown",
   "metadata": {},
   "source": [
    "* Run basic calculations to obtain the results in the table below\n",
    "\n",
    "\n",
    "* Create a summary data frame to hold the results\n",
    "\n",
    "\n",
    "* Sort the total purchase value column in descending order\n",
    "\n",
    "\n",
    "* Optional: give the displayed data cleaner formatting\n",
    "\n",
    "\n",
    "* Display a preview of the summary data frame\n",
    "\n"
   ]
  },
  {
   "cell_type": "code",
   "execution_count": null,
   "metadata": {},
   "outputs": [],
   "source": [
    "orig_purchase_data_df = pd.read_json(heroes)\n",
    "orig_purchase_data_df.head()\n",
    "\n",
    "grp_SN_top_spendor_df = orig_purchase_data_df.groupby(\"SN\")\n",
    "grp_SN_top_spendor_df.count()\n",
    "\n",
    "analysis_by_SPENDOR_df = pd.DataFrame(grp_SN_top_spendor_df[\"Item ID\"].count())\n",
    "analysis_by_SPENDOR_df\n",
    "\n",
    "total_purchase_value_SN = grp_SN_top_spendor_df[\"Price\"].sum()\n",
    "total_purchase_value_SN\n",
    "\n",
    "avg_purchase_price_SN = grp_SN_top_spendor_df[\"Price\"].mean()\n",
    "avg_purchase_price_SN\n",
    "dlr_avg_purchase_price_SN = avg_purchase_price_SN.map(\"${:,.2f}\".format)\n",
    "dlr_avg_purchase_price_SN\n",
    "\n",
    "analysis_by_SPENDOR_df[\"Average Purchase Price\"] = dlr_avg_purchase_price_SN\n",
    "analysis_by_SPENDOR_df[\"Total Purchase Value\"] = total_purchase_value_SN \n",
    "analysis_by_SPENDOR_df\n",
    "\n",
    "SUM_SN_purchased_data_df = analysis_by_SPENDOR_df.rename(columns={\"Item ID\":\"Purchase Count\"})\n",
    "TOP5_spendors_df=SUM_SN_purchased_data_df.sort_values(\"Total Purchase Value\", ascending=False)\n",
    "TOP5_spendors_df.head()\n"
   ]
  },
  {
   "cell_type": "markdown",
   "metadata": {},
   "source": [
    "## Most Popular Items"
   ]
  },
  {
   "cell_type": "markdown",
   "metadata": {},
   "source": [
    "* Retrieve the Item ID, Item Name, and Item Price columns\n",
    "\n",
    "\n",
    "* Group by Item ID and Item Name. Perform calculations to obtain purchase count, item price, and total purchase value\n",
    "\n",
    "\n",
    "* Create a summary data frame to hold the results\n",
    "\n",
    "\n",
    "* Sort the purchase count column in descending order\n",
    "\n",
    "\n",
    "* Optional: give the displayed data cleaner formatting\n",
    "\n",
    "\n",
    "* Display a preview of the summary data frame\n",
    "\n"
   ]
  },
  {
   "cell_type": "code",
   "execution_count": null,
   "metadata": {},
   "outputs": [],
   "source": [
    "grp_top_item_df = orig_purchase_data_df.groupby([\"Item ID\", \"Item Name\"])\n",
    "grp_top_item_df.count()\n",
    "\n",
    "analysis_by_ITEM_df = pd.DataFrame(grp_top_item_df[\"Item ID\"].count())\n",
    "analysis_by_ITEM_df\n",
    "\n",
    "total_purchase_value_ITEM = grp_top_item_df[\"Price\"].sum()\n",
    "total_purchase_value_ITEM\n",
    "dlr_total_purchase_value_ITEM = total_purchase_value_ITEM.map(\"${:,.2f}\".format)\n",
    "dlr_total_purchase_value_ITEM\n",
    "\n",
    "purchase_price_ITEM = grp_top_item_df[\"Price\"].mean()\n",
    "purchase_price_ITEM\n",
    "dlr_purchase_price_ITEM = purchase_price_ITEM.map(\"${:,.2f}\".format)\n",
    "dlr_purchase_price_ITEM\n",
    "\n",
    "\n",
    "analysis_by_ITEM_df[\"Item Price\"] = dlr_purchase_price_ITEM\n",
    "analysis_by_ITEM_df[\"Total Purchase Value\"] = dlr_total_purchase_value_ITEM\n",
    "analysis_by_ITEM_df\n",
    "\n",
    "SUM_ITEM_purchased_data_df = analysis_by_ITEM_df.rename(columns={\"Item ID\":\"Purchase Count\"})\n",
    "TOP5_ITEMS_df=SUM_ITEM_purchased_data_df.sort_values(\"Purchase Count\", ascending=False)\n",
    "TOP5_ITEMS_df.head()"
   ]
  },
  {
   "cell_type": "markdown",
   "metadata": {},
   "source": [
    "## Most Profitable Items"
   ]
  },
  {
   "cell_type": "markdown",
   "metadata": {},
   "source": [
    "* Sort the above table by total purchase value in descending order\n",
    "\n",
    "\n",
    "* Optional: give the displayed data cleaner formatting\n",
    "\n",
    "\n",
    "* Display a preview of the data frame\n",
    "\n"
   ]
  },
  {
   "cell_type": "code",
   "execution_count": null,
   "metadata": {
    "scrolled": true
   },
   "outputs": [],
   "source": [
    "SUM_ITEM_purchased_data_df[\"Total Purchase Value\"] = grp_top_item_df[\"Price\"].sum()\n",
    "SUM_ITEM_purchased_data_df\n",
    "\n",
    "TOP5_ITEMS_df=SUM_ITEM_purchased_data_df.sort_values(\"Total Purchase Value\", ascending=False)\n",
    "\n",
    "dlr_total_purchase_value_ITEM = total_purchase_value_ITEM.map(\"${:,.2f}\".format)\n",
    "TOP5_ITEMS_df[\"Total Purchase Value\"] = dlr_total_purchase_value_ITEM\n",
    "TOP5_ITEMS_df.head()\n"
   ]
  }
 ],
 "metadata": {
  "anaconda-cloud": {},
  "kernel_info": {
   "name": "python3"
  },
  "kernelspec": {
   "display_name": "Python 3",
   "language": "python",
   "name": "python3"
  },
  "language_info": {
   "codemirror_mode": {
    "name": "ipython",
    "version": 3
   },
   "file_extension": ".py",
   "mimetype": "text/x-python",
   "name": "python",
   "nbconvert_exporter": "python",
   "pygments_lexer": "ipython3",
   "version": "3.7.3"
  },
  "nteract": {
   "version": "0.2.0"
  }
 },
 "nbformat": 4,
 "nbformat_minor": 2
}
